{
  "nbformat": 4,
  "nbformat_minor": 0,
  "metadata": {
    "colab": {
      "name": "boj2.ipynb",
      "provenance": [],
      "authorship_tag": "ABX9TyPUOHoWnUW2GuVxt2mOLAdU",
      "include_colab_link": true
    },
    "kernelspec": {
      "name": "python3",
      "display_name": "Python 3"
    }
  },
  "cells": [
    {
      "cell_type": "markdown",
      "metadata": {
        "id": "view-in-github",
        "colab_type": "text"
      },
      "source": [
        "<a href=\"https://colab.research.google.com/github/HKyeol/BOJ/blob/main/boj2.ipynb\" target=\"_parent\"><img src=\"https://colab.research.google.com/assets/colab-badge.svg\" alt=\"Open In Colab\"/></a>"
      ]
    },
    {
      "cell_type": "markdown",
      "metadata": {
        "id": "UXxjDhmRThXb"
      },
      "source": [
        "```\r\n",
        "문제\r\n",
        "두 정수 A와 B가 주어졌을 때, A와 B를 비교하는 프로그램을 작성하시오.\r\n",
        "\r\n",
        "입력\r\n",
        "첫째 줄에 A와 B가 주어진다. A와 B는 공백 한 칸으로 구분되어져 있다.\r\n",
        "\r\n",
        "출력\r\n",
        "첫째 줄에 다음 세 가지 중 하나를 출력한다.\r\n",
        "\r\n",
        "A가 B보다 큰 경우에는 '>'를 출력한다.\r\n",
        "A가 B보다 작은 경우에는 '<'를 출력한다.\r\n",
        "A와 B가 같은 경우에는 '=='를 출력한다.\r\n",
        "```"
      ]
    },
    {
      "cell_type": "code",
      "metadata": {
        "colab": {
          "base_uri": "https://localhost:8080/"
        },
        "id": "5TycvJAnThpF",
        "outputId": "7eb1c736-3efb-47e0-daba-3e0da18e8ea0"
      },
      "source": [
        "a,b = map(int,input().split())\r\n",
        "print(['><'[a<b],'=='][a==b])\r\n"
      ],
      "execution_count": 67,
      "outputs": [
        {
          "output_type": "stream",
          "text": [
            "2 2\n",
            "==\n"
          ],
          "name": "stdout"
        }
      ]
    },
    {
      "cell_type": "markdown",
      "metadata": {
        "id": "_2pRLOL_M41M"
      },
      "source": [
        "시험 점수를 입력받아 90 ~ 100점은 A,  \r\n",
        "80 ~ 89점은 B, 70 ~ 79점은 C, 60 ~ 69점은 D,  \r\n",
        "나머지 점수는 F를 출력하는 프로그램을 작성하시오.  \r\n",
        "\r\n",
        "첫째 줄에 시험 점수가 주어진다. 시험 점수는 0보다 크거나 같고, 100보다 작거나 같은 정수이다."
      ]
    },
    {
      "cell_type": "code",
      "metadata": {
        "colab": {
          "base_uri": "https://localhost:8080/"
        },
        "id": "A19QYNbQMxNz",
        "outputId": "f6a8b139-ee5c-4df4-a2c1-d730527d26a8"
      },
      "source": [
        "a = int(input())\r\n",
        "if a >= 90:\r\n",
        "    print('A')\r\n",
        "elif a>= 80:\r\n",
        "    print('B')\r\n",
        "elif a>= 70:\r\n",
        "    print('C')\r\n",
        "elif a>= 60:\r\n",
        "    print('D')\r\n",
        "else:\r\n",
        "    print('F')"
      ],
      "execution_count": 5,
      "outputs": [
        {
          "output_type": "stream",
          "text": [
            "69\n",
            "F\n"
          ],
          "name": "stdout"
        }
      ]
    },
    {
      "cell_type": "code",
      "metadata": {
        "colab": {
          "base_uri": "https://localhost:8080/"
        },
        "id": "-VRUl3_HSkUW",
        "outputId": "1267fcd5-c0b9-4bde-f017-c30451c09abe"
      },
      "source": [
        "#숏코딩\r\n",
        "print('FFFFFFDCBAA'[int(input())//10])\r\n"
      ],
      "execution_count": 60,
      "outputs": [
        {
          "output_type": "stream",
          "text": [
            "89\n",
            "B\n"
          ],
          "name": "stdout"
        }
      ]
    },
    {
      "cell_type": "markdown",
      "metadata": {
        "id": "MpYLAKNJOQtl"
      },
      "source": [
        "```\r\n",
        "연도가 주어졌을 때, 윤년이면 1, 아니면 0을 출력하는 프로그램을 작성하시오.\r\n",
        "\r\n",
        "윤년은 연도가 4의 배수이면서, 100의 배수가 아닐 때 또는 400의 배수일 때이다.\r\n",
        "\r\n",
        "예를 들어, 2012년은 4의 배수이면서 100의 배수가 아니라서 윤년이다. 1900년은 100의 배수이고 400의 배수는 아니기 때문에 윤년이 아니다. \r\n",
        "하지만, 2000년은 400의 배수이기 때문에 윤년이다.\r\n",
        "\r\n",
        "입력\r\n",
        "첫째 줄에 연도가 주어진다. 연도는 1보다 크거나 같고, 4000보다 작거나 같은 자연수이다.\r\n",
        "\r\n",
        "출력\r\n",
        "첫째 줄에 윤년이면 1, 아니면 0을 출력한다.\r\n",
        "\r\n",
        "```"
      ]
    },
    {
      "cell_type": "code",
      "metadata": {
        "colab": {
          "base_uri": "https://localhost:8080/"
        },
        "id": "04An97e1OQLb",
        "outputId": "cb6c673f-eb96-4607-dcf7-93e53721c1e2"
      },
      "source": [
        "a = int(input())\r\n",
        "if a%4==0 and (a%100!=0 or a%400==0):\r\n",
        "    print(1)\r\n",
        "else:\r\n",
        "    print(0)"
      ],
      "execution_count": 10,
      "outputs": [
        {
          "output_type": "stream",
          "text": [
            "2011\n",
            "0\n"
          ],
          "name": "stdout"
        }
      ]
    },
    {
      "cell_type": "code",
      "metadata": {
        "colab": {
          "base_uri": "https://localhost:8080/"
        },
        "id": "ohgGu2QOPOhH",
        "outputId": "e6451a71-2dc9-4665-c744-327d38131503"
      },
      "source": [
        "# 숏코드\r\n",
        "y = int(input())\r\n",
        "print(+((y%100 or y//100)%4<1))   # or는 앞의 숫자가 0이면 다음거를 제출하고 아니면 앞에걸 고르는구나\r\n",
        "print(y%100,y//100)\r\n",
        "print((y%100 or y//100)%4)"
      ],
      "execution_count": 52,
      "outputs": [
        {
          "output_type": "stream",
          "text": [
            "24\n",
            "1\n",
            "24 0\n",
            "0\n"
          ],
          "name": "stdout"
        }
      ]
    },
    {
      "cell_type": "markdown",
      "metadata": {
        "id": "tTG7G-q3UopN"
      },
      "source": [
        "```\r\n",
        "좌표가 (12, 5)인 점 A는 x좌표와 y좌표가 모두 양수이므로 제1사분면에 속한다. 점 B는 x좌표가 음수이고 y좌표가 양수이므로 제2사분면에 속한다.\r\n",
        "\r\n",
        "점의 좌표를 입력받아 그 점이 어느 사분면에 속하는지 알아내는 프로그램을 작성하시오. 단, x좌표와 y좌표는 모두 양수나 음수라고 가정한다.\r\n",
        "\r\n",
        "입력\r\n",
        "첫 줄에는 정수 x가 주어진다. (−1000 ≤ x ≤ 1000; x ≠ 0) 다음 줄에는 정수 y가 주어진다. (−1000 ≤ y ≤ 1000; y ≠ 0)\r\n",
        "\r\n",
        "출력\r\n",
        "점 (x, y)의 사분면 번호(1, 2, 3, 4 중 하나)를 출력한다.\r\n",
        "```"
      ]
    },
    {
      "cell_type": "code",
      "metadata": {
        "colab": {
          "base_uri": "https://localhost:8080/"
        },
        "id": "jr98fS0JQarl",
        "outputId": "7493119e-5956-4c83-e766-4ea623d0a1d1"
      },
      "source": [
        "x = int(input())\r\n",
        "y = int(input())\r\n",
        "if x > 0 and y > 0:\r\n",
        "    print(1)\r\n",
        "elif x < 0 and y > 0:\r\n",
        "    print(2)\r\n",
        "elif x < 0 and y < 0:\r\n",
        "    print(3)\r\n",
        "else:\r\n",
        "    print(4)"
      ],
      "execution_count": 68,
      "outputs": [
        {
          "output_type": "stream",
          "text": [
            "2\n",
            "-1\n",
            "4\n"
          ],
          "name": "stdout"
        }
      ]
    },
    {
      "cell_type": "code",
      "metadata": {
        "colab": {
          "base_uri": "https://localhost:8080/"
        },
        "id": "Y2e_Bu1RVKbm",
        "outputId": "46bc4976-930d-4aee-882a-00c1fee94930"
      },
      "source": [
        "# 숏코딩 트라이\r\n",
        "print('1243'[input()<'0'][input()<'0'])\r\n",
        "#print(\"3421\"[input()>\"0\"::2])[input()>\"0\"])\r\n"
      ],
      "execution_count": 118,
      "outputs": [
        {
          "output_type": "stream",
          "text": [
            "1\n",
            "1\n",
            "1\n"
          ],
          "name": "stdout"
        }
      ]
    },
    {
      "cell_type": "markdown",
      "metadata": {
        "id": "ogJFJ-1Gb4yy"
      },
      "source": [
        "```\r\n",
        "문제\r\n",
        "상근이는 매일 아침 알람을 듣고 일어난다. 알람을 듣고 바로 일어나면 다행이겠지만, 항상 조금만 더 자려는 마음 때문에 매일 학교를 지각하고 있다.\r\n",
        "\r\n",
        "상근이는 모든 방법을 동원해보았지만, 조금만 더 자려는 마음은 그 어떤 것도 없앨 수가 없었다.\r\n",
        "\r\n",
        "이런 상근이를 불쌍하게 보던, 창영이는 자신이 사용하는 방법을 추천해 주었다.\r\n",
        "\r\n",
        "바로 \"45분 일찍 알람 설정하기\"이다.\r\n",
        "\r\n",
        "이 방법은 단순하다. 원래 설정되어 있는 알람을 45분 앞서는 시간으로 바꾸는 것이다. \r\n",
        "어차피 알람 소리를 들으면, 알람을 끄고 조금 더 잘 것이기 때문이다.\r\n",
        "이 방법을 사용하면, 매일 아침 더 잤다는 기분을 느낄 수 있고, 학교도 지각하지 않게 된다.\r\n",
        "\r\n",
        "현재 상근이가 설정한 알람 시각이 주어졌을 때, 창영이의 방법을 사용한다면, 이를 언제로 고쳐야 하는지 구하는 프로그램을 작성하시오.\r\n",
        "\r\n",
        "입력\r\n",
        "첫째 줄에 두 정수 H와 M이 주어진다. (0 ≤ H ≤ 23, 0 ≤ M ≤ 59) 그리고 이것은 현재 상근이가 설정한 놓은 알람 시간 H시 M분을 의미한다.\r\n",
        "\r\n",
        "입력 시간은 24시간 표현을 사용한다. 24시간 표현에서 하루의 시작은 0:0(자정)이고, 끝은 23:59(다음날 자정 1분 전)이다.\r\n",
        "시간을 나타낼 때, 불필요한 0은 사용하지 않는다.\r\n",
        "\r\n",
        "\r\n",
        "출력\r\n",
        "첫째 줄에 상근이가 창영이의 방법을 사용할 때, 설정해야 하는 알람 시간을 출력한다. (입력과 같은 형태로 출력하면 된다.)\r\n",
        "```"
      ]
    },
    {
      "cell_type": "code",
      "metadata": {
        "colab": {
          "base_uri": "https://localhost:8080/"
        },
        "id": "S6NtcykUb6C9",
        "outputId": "4b31f3aa-b23b-4e0a-998f-fa24828f092d"
      },
      "source": [
        "H, M = map(int,input().split())\r\n",
        "#print([f'{H} {M-45}',f'{[23,H-1][H>1]} {M+15}'][M//45==0])\r\n",
        "print((H-(M<45))%24,(M-45)%60) # -1 % 24는 23이다.\r\n",
        "\r\n",
        "\r\n",
        "#a,b=map(int,input().split())\r\n",
        "#print((a-(b<45))%24,(b-45)%60)\r\n"
      ],
      "execution_count": 185,
      "outputs": [
        {
          "output_type": "stream",
          "text": [
            "23 30\n",
            "22 45\n"
          ],
          "name": "stdout"
        }
      ]
    },
    {
      "cell_type": "code",
      "metadata": {
        "colab": {
          "base_uri": "https://localhost:8080/",
          "height": 244
        },
        "id": "T-YIEL64iui4",
        "outputId": "6e5170e3-3615-4d3d-e218-0a43377c0996"
      },
      "source": [
        "a, b=input()\r\n",
        "H=int(C[:2])\r\n",
        "M=int(C[3:])\r\n",
        "print((H-(M<45))%24,(M-45)%60) # -1 % 24는 23이다."
      ],
      "execution_count": 193,
      "outputs": [
        {
          "output_type": "stream",
          "text": [
            "23 30\n"
          ],
          "name": "stdout"
        },
        {
          "output_type": "error",
          "ename": "ValueError",
          "evalue": "ignored",
          "traceback": [
            "\u001b[0;31m---------------------------------------------------------------------------\u001b[0m",
            "\u001b[0;31mValueError\u001b[0m                                Traceback (most recent call last)",
            "\u001b[0;32m<ipython-input-193-93d2c37796fb>\u001b[0m in \u001b[0;36m<module>\u001b[0;34m()\u001b[0m\n\u001b[0;32m----> 1\u001b[0;31m \u001b[0mC\u001b[0m\u001b[0;34m=\u001b[0m\u001b[0mint\u001b[0m\u001b[0;34m(\u001b[0m\u001b[0minput\u001b[0m\u001b[0;34m(\u001b[0m\u001b[0;34m)\u001b[0m\u001b[0;34m)\u001b[0m\u001b[0;34m\u001b[0m\u001b[0;34m\u001b[0m\u001b[0m\n\u001b[0m\u001b[1;32m      2\u001b[0m \u001b[0mH\u001b[0m\u001b[0;34m=\u001b[0m\u001b[0mC\u001b[0m\u001b[0;34m[\u001b[0m\u001b[0;34m:\u001b[0m\u001b[0;36m2\u001b[0m\u001b[0;34m]\u001b[0m\u001b[0;34m\u001b[0m\u001b[0;34m\u001b[0m\u001b[0m\n\u001b[1;32m      3\u001b[0m \u001b[0mM\u001b[0m\u001b[0;34m=\u001b[0m\u001b[0mC\u001b[0m\u001b[0;34m[\u001b[0m\u001b[0;36m3\u001b[0m\u001b[0;34m:\u001b[0m\u001b[0;34m]\u001b[0m\u001b[0;34m\u001b[0m\u001b[0;34m\u001b[0m\u001b[0m\n\u001b[1;32m      4\u001b[0m \u001b[0mprint\u001b[0m\u001b[0;34m(\u001b[0m\u001b[0;34m(\u001b[0m\u001b[0mH\u001b[0m\u001b[0;34m-\u001b[0m\u001b[0;34m(\u001b[0m\u001b[0mM\u001b[0m\u001b[0;34m<\u001b[0m\u001b[0;36m45\u001b[0m\u001b[0;34m)\u001b[0m\u001b[0;34m)\u001b[0m\u001b[0;34m%\u001b[0m\u001b[0;36m24\u001b[0m\u001b[0;34m,\u001b[0m\u001b[0;34m(\u001b[0m\u001b[0mM\u001b[0m\u001b[0;34m-\u001b[0m\u001b[0;36m45\u001b[0m\u001b[0;34m)\u001b[0m\u001b[0;34m%\u001b[0m\u001b[0;36m60\u001b[0m\u001b[0;34m)\u001b[0m \u001b[0;31m# -1 % 24는 23이다.\u001b[0m\u001b[0;34m\u001b[0m\u001b[0;34m\u001b[0m\u001b[0m\n",
            "\u001b[0;31mValueError\u001b[0m: invalid literal for int() with base 10: '23 30'"
          ]
        }
      ]
    },
    {
      "cell_type": "code",
      "metadata": {
        "colab": {
          "base_uri": "https://localhost:8080/"
        },
        "id": "Q25ljlrqfsR2",
        "outputId": "009bb809-86ab-43c7-f858-54250bfbdd3b"
      },
      "source": [
        "H, M = map(int,input().split())\r\n",
        "if M < 45:\r\n",
        "    if H > 0:\r\n",
        "        H -= 1\r\n",
        "        M += 15\r\n",
        "    else:\r\n",
        "        H = 23\r\n",
        "        M += 15\r\n",
        "else:\r\n",
        "    M -= 45\r\n",
        "\r\n",
        "print(H, M)"
      ],
      "execution_count": 175,
      "outputs": [
        {
          "output_type": "stream",
          "text": [
            "23 45\n",
            "23 0\n"
          ],
          "name": "stdout"
        }
      ]
    }
  ]
}