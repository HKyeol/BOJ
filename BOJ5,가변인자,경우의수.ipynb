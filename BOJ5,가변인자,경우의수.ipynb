{
  "nbformat": 4,
  "nbformat_minor": 0,
  "metadata": {
    "colab": {
      "name": "BOJ5,가변인자,경우의수.ipynb",
      "provenance": [],
      "authorship_tag": "ABX9TyM7XT2dQDy//pORSNmLLyFH",
      "include_colab_link": true
    },
    "kernelspec": {
      "name": "python3",
      "display_name": "Python 3"
    }
  },
  "cells": [
    {
      "cell_type": "markdown",
      "metadata": {
        "id": "view-in-github",
        "colab_type": "text"
      },
      "source": [
        "<a href=\"https://colab.research.google.com/github/HKyeol/BOJ/blob/main/BOJ5%2C%EA%B0%80%EB%B3%80%EC%9D%B8%EC%9E%90%2C%EA%B2%BD%EC%9A%B0%EC%9D%98%EC%88%98.ipynb\" target=\"_parent\"><img src=\"https://colab.research.google.com/assets/colab-badge.svg\" alt=\"Open In Colab\"/></a>"
      ]
    },
    {
      "cell_type": "markdown",
      "metadata": {
        "id": "wO5DDt46rtp4"
      },
      "source": [
        "```\r\n",
        "문제\r\n",
        "N개의 수가 주어졌을 때, 이를 오름차순으로 정렬하는 프로그램을 작성하시오.\r\n",
        "\r\n",
        "입력\r\n",
        "첫째 줄에 수의 개수 N(1 ≤ N ≤ 1,000)이 주어진다. 둘째 줄부터 N개의 줄에는 숫자가 주어진다.\r\n",
        "이 수는 절댓값이 1,000보다 작거나 같은 정수이다. 수는 중복되지 않는다.\r\n",
        "\r\n",
        "출력\r\n",
        "첫째 줄부터 N개의 줄에 오름차순으로 정렬한 결과를 한 줄에 하나씩 출력한다.\r\n",
        "5 5 2 3 4 1\r\n",
        "```"
      ]
    },
    {
      "cell_type": "code",
      "metadata": {
        "colab": {
          "base_uri": "https://localhost:8080/"
        },
        "id": "-NtThfrlrtCk",
        "outputId": "b6c2b76c-b570-4e0c-cf08-1d96e77b8923"
      },
      "source": [
        "N = int(input())\r\n",
        "a = []\r\n",
        "for i in range(N):\r\n",
        "    a.append(int(input()))\r\n",
        "    if len(a)>1:\r\n",
        "        for k in range(len(a)-1,0,-1):\r\n",
        "            if a[k-1]>a[k]:\r\n",
        "                a[k-1],a[k]=a[k],a[k-1]\r\n",
        "for j in a:\r\n",
        "    print(j)"
      ],
      "execution_count": 16,
      "outputs": [
        {
          "output_type": "stream",
          "text": [
            "5\n",
            "5\n",
            "2\n",
            "3\n",
            "4\n",
            "1\n",
            "1\n",
            "2\n",
            "3\n",
            "4\n",
            "5\n"
          ],
          "name": "stdout"
        }
      ]
    },
    {
      "cell_type": "code",
      "metadata": {
        "colab": {
          "base_uri": "https://localhost:8080/"
        },
        "id": "OTwBMEU3sbDZ",
        "outputId": "699a62c4-f3bc-4b31-d5d4-9814a569efd6"
      },
      "source": [
        "a = [1,2,3]\r\n",
        "for k in range(len(a)-1,0,-1):\r\n",
        "    print(k)\r\n",
        "    if a[k-1]>a[k]:\r\n",
        "        a[k-1],a[k]=a[k],a[k-1]"
      ],
      "execution_count": 13,
      "outputs": [
        {
          "output_type": "stream",
          "text": [
            "2\n",
            "1\n"
          ],
          "name": "stdout"
        }
      ]
    },
    {
      "cell_type": "code",
      "metadata": {
        "colab": {
          "base_uri": "https://localhost:8080/"
        },
        "id": "DU9rsQlht8h_",
        "outputId": "0910e8fd-8560-4456-d519-5c0924aea8b4"
      },
      "source": [
        "# 숏코딩\r\n",
        "print(*sorted(eval(\"int(input()),\"*int(input()))))"
      ],
      "execution_count": 23,
      "outputs": [
        {
          "output_type": "stream",
          "text": [
            "5\n",
            "5\n",
            "2\n",
            "3\n",
            "4\n",
            "1\n",
            "1 2 3 4 5\n"
          ],
          "name": "stdout"
        }
      ]
    },
    {
      "cell_type": "markdown",
      "metadata": {
        "id": "-NQ8ixvt0QgU"
      },
      "source": [
        "# 가변인자"
      ]
    },
    {
      "cell_type": "code",
      "metadata": {
        "colab": {
          "base_uri": "https://localhost:8080/"
        },
        "id": "F813yNy0vR-6",
        "outputId": "954bafc4-c474-451f-aa37-99dd2d2be3ef"
      },
      "source": [
        "def save_ranking(*args, **kwargs):\r\n",
        "    print(args)\r\n",
        "    print(kwargs)\r\n",
        "save_ranking('ming', 'alice', 'tom','dad', fourth='wilson', fifth='roy')\r\n",
        "# ('ming', 'alice', 'tom')\r\n",
        "# {'fourth': 'wilson', 'fifth': 'roy'}"
      ],
      "execution_count": 28,
      "outputs": [
        {
          "output_type": "stream",
          "text": [
            "('ming', 'alice', 'tom', 'dad')\n",
            "{'fourth': 'wilson', 'fifth': 'roy'}\n"
          ],
          "name": "stdout"
        }
      ]
    },
    {
      "cell_type": "markdown",
      "metadata": {
        "id": "Um4W0exV0aQR"
      },
      "source": [
        "# 경우의 수 문제\r\n",
        "1~800의 자연수 중\r\n",
        "4, 5, 6 중 하나의 수로만 나누어지는 자연수의 갯수는?"
      ]
    },
    {
      "cell_type": "code",
      "metadata": {
        "colab": {
          "base_uri": "https://localhost:8080/"
        },
        "id": "s0poOLUvwMLW",
        "outputId": "4eca3094-695f-490d-ee84-6b34a0715d19"
      },
      "source": [
        "import collections\r\n",
        "a = [i for i in range(1,801)]\r\n",
        "a4 = [i for i in range(1,801) if i%4==0]\r\n",
        "a5 = [i for i in range(1,801) if i%5==0]\r\n",
        "a6 = [i for i in range(1,801) if i%6==0]\r\n",
        "b1 = collections.Counter(a4) & collections.Counter(a5)\r\n",
        "b2 = collections.Counter(a4) & collections.Counter(a6)\r\n",
        "b3 = collections.Counter(a5) & collections.Counter(a6)\r\n",
        "a4 = collections.Counter(a4)\r\n",
        "a5 = collections.Counter(a5)\r\n",
        "a6 = collections.Counter(a6)\r\n",
        "\r\n",
        "res1 = a4-b1-b2-b3\r\n",
        "res2 = a5-b1-b2-b3\r\n",
        "res3 = a6-b1-b2-b3\r\n",
        "res4 = a4+a5+a6\r\n",
        "# 좀 다른정답\r\n",
        "cnt = 0\r\n",
        "for i in range(1,801):\r\n",
        "    if res4[i] == 1:\r\n",
        "        cnt += 1\r\n",
        "print(cnt)\r\n",
        "print(len(list(res1.elements())))\r\n",
        "print((list(res1.elements())))\r\n",
        "print(len(list(res2.elements())))\r\n",
        "print((list(res2.elements())))\r\n",
        "print(len(list(res3.elements())))\r\n",
        "print((list(res3.elements())))\r\n",
        "# 정답\r\n",
        "print(len(res1+res2+res3))\r\n",
        "#print(list(b1.elements()))"
      ],
      "execution_count": 92,
      "outputs": [
        {
          "output_type": "stream",
          "text": [
            "268\n",
            "107\n",
            "[4, 8, 16, 28, 32, 44, 52, 56, 64, 68, 76, 88, 92, 104, 112, 116, 124, 128, 136, 148, 152, 164, 172, 176, 184, 188, 196, 208, 212, 224, 232, 236, 244, 248, 256, 268, 272, 284, 292, 296, 304, 308, 316, 328, 332, 344, 352, 356, 364, 368, 376, 388, 392, 404, 412, 416, 424, 428, 436, 448, 452, 464, 472, 476, 484, 488, 496, 508, 512, 524, 532, 536, 544, 548, 556, 568, 572, 584, 592, 596, 604, 608, 616, 628, 632, 644, 652, 656, 664, 668, 676, 688, 692, 704, 712, 716, 724, 728, 736, 748, 752, 764, 772, 776, 784, 788, 796]\n",
            "107\n",
            "[5, 10, 15, 25, 35, 45, 50, 55, 65, 70, 75, 85, 95, 105, 110, 115, 125, 130, 135, 145, 155, 165, 170, 175, 185, 190, 195, 205, 215, 225, 230, 235, 245, 250, 255, 265, 275, 285, 290, 295, 305, 310, 315, 325, 335, 345, 350, 355, 365, 370, 375, 385, 395, 405, 410, 415, 425, 430, 435, 445, 455, 465, 470, 475, 485, 490, 495, 505, 515, 525, 530, 535, 545, 550, 555, 565, 575, 585, 590, 595, 605, 610, 615, 625, 635, 645, 650, 655, 665, 670, 675, 685, 695, 705, 710, 715, 725, 730, 735, 745, 755, 765, 770, 775, 785, 790, 795]\n",
            "54\n",
            "[6, 18, 42, 54, 66, 78, 102, 114, 126, 138, 162, 174, 186, 198, 222, 234, 246, 258, 282, 294, 306, 318, 342, 354, 366, 378, 402, 414, 426, 438, 462, 474, 486, 498, 522, 534, 546, 558, 582, 594, 606, 618, 642, 654, 666, 678, 702, 714, 726, 738, 762, 774, 786, 798]\n",
            "268\n"
          ],
          "name": "stdout"
        }
      ]
    }
  ]
}