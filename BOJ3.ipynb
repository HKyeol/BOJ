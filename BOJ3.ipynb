{
  "nbformat": 4,
  "nbformat_minor": 0,
  "metadata": {
    "colab": {
      "name": "BOJ3.ipynb",
      "provenance": [],
      "authorship_tag": "ABX9TyOu8pQ6+RMxy60/s0GtB+gw",
      "include_colab_link": true
    },
    "kernelspec": {
      "name": "python3",
      "display_name": "Python 3"
    }
  },
  "cells": [
    {
      "cell_type": "markdown",
      "metadata": {
        "id": "view-in-github",
        "colab_type": "text"
      },
      "source": [
        "<a href=\"https://colab.research.google.com/github/HKyeol/BOJ/blob/main/BOJ3.ipynb\" target=\"_parent\"><img src=\"https://colab.research.google.com/assets/colab-badge.svg\" alt=\"Open In Colab\"/></a>"
      ]
    },
    {
      "cell_type": "markdown",
      "metadata": {
        "id": "u_fWDTAkLfNd"
      },
      "source": [
        "```\r\n",
        "문제\r\n",
        "N을 입력받은 뒤, 구구단 N단을 출력하는 프로그램을 작성하시오. 출력 형식에 맞춰서 출력하면 된다.\r\n",
        "\r\n",
        "입력\r\n",
        "첫째 줄에 N이 주어진다. N은 1보다 크거나 같고, 9보다 작거나 같다.\r\n",
        "\r\n",
        "출력\r\n",
        "출력형식과 같게 N*1부터 N*9까지 출력한다.\r\n",
        "```"
      ]
    },
    {
      "cell_type": "code",
      "metadata": {
        "colab": {
          "base_uri": "https://localhost:8080/"
        },
        "id": "DAP1mU-4Ldmf",
        "outputId": "7875b38d-5c1d-4425-c55f-fb5952577352"
      },
      "source": [
        "a = int(input())\r\n",
        "for i in range(1,10):\r\n",
        "    print(f'{a} * {i} = {a*i}')"
      ],
      "execution_count": 4,
      "outputs": [
        {
          "output_type": "stream",
          "text": [
            "2\n",
            "2 * 1 = 2\n",
            "2 * 2 = 4\n",
            "2 * 3 = 6\n",
            "2 * 4 = 8\n",
            "2 * 5 = 10\n",
            "2 * 6 = 12\n",
            "2 * 7 = 14\n",
            "2 * 8 = 16\n",
            "2 * 9 = 18\n"
          ],
          "name": "stdout"
        }
      ]
    },
    {
      "cell_type": "markdown",
      "metadata": {
        "id": "LQh6EuW6MmPE"
      },
      "source": [
        "두 정수 A와 B를 입력받은 다음, A+B를 출력하는 프로그램을 작성하시오.\r\n",
        "\r\n",
        "입력\r\n",
        "첫째 줄에 테스트 케이스의 개수 T가 주어진다.\r\n",
        "\r\n",
        "각 테스트 케이스는 한 줄로 이루어져 있으며, 각 줄에 A와 B가 주어진다. (0 < A, B < 10)\r\n",
        "\r\n",
        "출력\r\n",
        "각 테스트 케이스마다 A+B를 출력한다."
      ]
    },
    {
      "cell_type": "code",
      "metadata": {
        "colab": {
          "base_uri": "https://localhost:8080/"
        },
        "id": "5Z_vZ4jjM8ub",
        "outputId": "c0411a76-c353-4546-e5c4-64141f3c5da5"
      },
      "source": [
        "n = int(input())\r\n",
        "for i in range(n):\r\n",
        "    a,b = map(int,input().split())\r\n",
        "    print(a+b)"
      ],
      "execution_count": 7,
      "outputs": [
        {
          "output_type": "stream",
          "text": [
            "3\n",
            "3 5\n",
            "8\n",
            "2 4\n",
            "6\n",
            "1 3\n",
            "4\n"
          ],
          "name": "stdout"
        }
      ]
    },
    {
      "cell_type": "markdown",
      "metadata": {
        "id": "yhKJt3BOM3PM"
      },
      "source": [
        "```\r\n",
        "문제\r\n",
        "0보다 크거나 같고, 99보다 작거나 같은 정수가 주어질 때 다음과 같은 연산을 할 수 있다.\r\n",
        "먼저 주어진 수가 10보다 작다면 앞에 0을 붙여 두 자리 수로 만들고, 각 자리의 숫자를 더한다.\r\n",
        "그 다음, 주어진 수의 가장 오른쪽 자리 수와 앞에서 구한 합의 가장 오른쪽 자리 수를 이어 붙이면 새로운 수를 만들 수 있다.\r\n",
        "다음 예를 보자.\r\n",
        "\r\n",
        "26부터 시작한다. 2+6 = 8이다. 새로운 수는 68이다. 6+8 = 14이다. 새로운 수는 84이다. 8+4 = 12이다. 새로운 수는 42이다. 4+2 = 6이다. 새로운 수는 26이다.\r\n",
        "\r\n",
        "위의 예는 4번만에 원래 수로 돌아올 수 있다. 따라서 26의 사이클의 길이는 4이다.\r\n",
        "\r\n",
        "N이 주어졌을 때, N의 사이클의 길이를 구하는 프로그램을 작성하시오.\r\n",
        "\r\n",
        "입력\r\n",
        "첫째 줄에 N이 주어진다. N은 0보다 크거나 같고, 99보다 작거나 같은 정수이다.\r\n",
        "\r\n",
        "출력\r\n",
        "첫째 줄에 N의 사이클 길이를 출력한다.\r\n",
        "```"
      ]
    },
    {
      "cell_type": "code",
      "metadata": {
        "id": "oZV08nj7NVKA"
      },
      "source": [
        "n = input()\r\n",
        "if len(n) == 1:\r\n",
        "    n = '0'+n\r\n",
        "end = n\r\n",
        "cnt = 0\r\n",
        "while True:\r\n",
        "    n = n[1]+str(int(n[0])+int(n[1]))[-1]\r\n",
        "    cnt += 1\r\n",
        "    print(n,end)\r\n",
        "    if n == end:\r\n",
        "        break\r\n",
        "print(cnt)"
      ],
      "execution_count": null,
      "outputs": []
    },
    {
      "cell_type": "code",
      "metadata": {
        "id": "e_DYZePKQD8e"
      },
      "source": [
        "# 숏코딩\r\n",
        "a=t=int(input());c=0\r\n",
        "while(c<1)+a-t:t=t%10*10+t*11//10%10;c+=1\r\n",
        "print(c)"
      ],
      "execution_count": null,
      "outputs": []
    },
    {
      "cell_type": "markdown",
      "metadata": {
        "id": "rBtQkNuOQ5o1"
      },
      "source": [
        "```\r\n",
        "0보다 크거나 같은 정수 N이 주어진다. 이때, N!을 출력하는 프로그램을 작성하시오.\r\n",
        "\r\n",
        "입력\r\n",
        "첫째 줄에 정수 N(0 ≤ N ≤ 12)가 주어진다.\r\n",
        "\r\n",
        "출력\r\n",
        "첫째 줄에 N!을 출력한다.\r\n",
        "```"
      ]
    },
    {
      "cell_type": "code",
      "metadata": {
        "id": "nFjls8lJQ6fe"
      },
      "source": [
        "def factorial(n):\r\n",
        "    if n ==1or n==0:\r\n",
        "        return 1\r\n",
        "    else:\r\n",
        "        return factorial(n-1)*n\r\n",
        "\r\n",
        "print(factorial(int(input())))"
      ],
      "execution_count": null,
      "outputs": []
    },
    {
      "cell_type": "code",
      "metadata": {
        "colab": {
          "base_uri": "https://localhost:8080/"
        },
        "id": "nbx52Kv3SdU1",
        "outputId": "5e98a5be-7521-4128-ea8d-effb8f76f0e7"
      },
      "source": [
        "#숏코딩\r\n",
        "r=i=1\r\n",
        "exec('r*=i;i+=1;'*int(input())) # 이해햇따!!!!!!!\r\n",
        "print(r)"
      ],
      "execution_count": 58,
      "outputs": [
        {
          "output_type": "stream",
          "text": [
            "0\n",
            "1\n"
          ],
          "name": "stdout"
        }
      ]
    },
    {
      "cell_type": "code",
      "metadata": {
        "colab": {
          "base_uri": "https://localhost:8080/"
        },
        "id": "FUd6Z8pdUeXW",
        "outputId": "bb5d9d9c-d902-44e8-d5f1-27df9488da90"
      },
      "source": [
        "r=i=1\r\n",
        "exec('r*=i;i+=1;'*int(input()))\r\n",
        "print(r)"
      ],
      "execution_count": 59,
      "outputs": [
        {
          "output_type": "stream",
          "text": [
            "3\n",
            "6\n"
          ],
          "name": "stdout"
        }
      ]
    }
  ]
}