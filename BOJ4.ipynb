{
  "nbformat": 4,
  "nbformat_minor": 0,
  "metadata": {
    "colab": {
      "name": "BOJ4.ipynb",
      "provenance": [],
      "authorship_tag": "ABX9TyMN7BsA/JzNNezAiMjY0iCH",
      "include_colab_link": true
    },
    "kernelspec": {
      "name": "python3",
      "display_name": "Python 3"
    }
  },
  "cells": [
    {
      "cell_type": "markdown",
      "metadata": {
        "id": "view-in-github",
        "colab_type": "text"
      },
      "source": [
        "<a href=\"https://colab.research.google.com/github/HKyeol/BOJ/blob/main/BOJ4.ipynb\" target=\"_parent\"><img src=\"https://colab.research.google.com/assets/colab-badge.svg\" alt=\"Open In Colab\"/></a>"
      ]
    },
    {
      "cell_type": "markdown",
      "metadata": {
        "id": "6hE5-jAoAq6j"
      },
      "source": [
        "문제\r\n",
        "N개의 정수가 주어진다. 이때, 최솟값과 최댓값을 구하는 프로그램을 작성하시오.\r\n",
        "\r\n",
        "입력\r\n",
        "첫째 줄에 정수의 개수 N (1 ≤ N ≤ 1,000,000)이 주어진다. 둘째 줄에는 N개의 정수를 공백으로 구분해서 주어진다. 모든 정수는 -1,000,000보다 크거나 같고, 1,000,000보다 작거나 같은 정수이다.\r\n",
        "\r\n",
        "출력\r\n",
        "첫째 줄에 주어진 정수 N개의 최솟값과 최댓값을 공백으로 구분해 출력한다."
      ]
    },
    {
      "cell_type": "code",
      "metadata": {
        "colab": {
          "base_uri": "https://localhost:8080/"
        },
        "id": "oKpv2KgUApw4",
        "outputId": "5fe6e538-688e-48d8-ba94-48006f62c53c"
      },
      "source": [
        "b = input()\r\n",
        "a = list(map(int,input().split()))\r\n",
        "print(min(a),max(a))"
      ],
      "execution_count": 23,
      "outputs": [
        {
          "output_type": "stream",
          "text": [
            "3 1 2 4\n",
            "3 1 2 4\n",
            "1 4\n"
          ],
          "name": "stdout"
        }
      ]
    },
    {
      "cell_type": "markdown",
      "metadata": {
        "id": "7HE3EYx6C2uM"
      },
      "source": [
        "```\r\n",
        "문제\r\n",
        "카지노에서 제일 인기 있는 게임 블랙잭의 규칙은 상당히 쉽다. 카드의 합이 21을 넘지 않는 한도 내에서, 카드의 합을 최대한 크게 만드는 게임이다.\r\n",
        "블랙잭은 카지노마다 다양한 규정이 있다.\r\n",
        "\r\n",
        "한국 최고의 블랙잭 고수 김정인은 새로운 블랙잭 규칙을 만들어 상근, 창영이와 게임하려고 한다.\r\n",
        "\r\n",
        "김정인 버전의 블랙잭에서 각 카드에는 양의 정수가 쓰여 있다. \r\n",
        "그 다음, 딜러는 N장의 카드를 모두 숫자가 보이도록 바닥에 놓는다.\r\n",
        " 그런 후에 딜러는 숫자 M을 크게 외친다.\r\n",
        "\r\n",
        "이제 플레이어는 제한된 시간 안에 N장의 카드 중에서 3장의 카드를 골라야 한다. \r\n",
        "블랙잭 변형 게임이기 때문에, 플레이어가 고른 카드의 합은 M을 넘지 않으면서 M과 최대한 가깝게 만들어야 한다.\r\n",
        "\r\n",
        "N장의 카드에 써져 있는 숫자가 주어졌을 때, M을 넘지 않으면서 M에 최대한 가까운 카드 3장의 합을 구해 출력하시오.\r\n",
        "\r\n",
        "입력\r\n",
        "첫째 줄에 카드의 개수 N(3 ≤ N ≤ 100)과 M(10 ≤ M ≤ 300,000)이 주어진다. \r\n",
        "둘째 줄에는 카드에 쓰여 있는 수가 주어지며, 이 값은 100,000을 넘지 않는 양의 정수이다.\r\n",
        "\r\n",
        "합이 M을 넘지 않는 카드 3장을 찾을 수 있는 경우만 입력으로 주어진다.\r\n",
        "\r\n",
        "출력\r\n",
        "첫째 줄에 M을 넘지 않으면서 M에 최대한 가까운 카드 3장의 합을 출력한다.\r\n",
        "```"
      ]
    },
    {
      "cell_type": "code",
      "metadata": {
        "id": "c4tnd6VSC3O_"
      },
      "source": [
        "#예제1\r\n",
        "#5 21\r\n",
        "#5 6 7 8 9\r\n",
        "#출력 21\r\n",
        "\r\n",
        "#예제2\r\n",
        "#10 500\r\n",
        "#93 181 245 214 315 36 185 138 216 295\r\n",
        "#출력 497"
      ],
      "execution_count": null,
      "outputs": []
    },
    {
      "cell_type": "code",
      "metadata": {
        "id": "pPBVCXoDDm-O"
      },
      "source": [
        "n, m = map(int,input().split())\r\n",
        "b = list(map(int,input().split()))\r\n",
        "b.sort()\r\n",
        "result = []\r\n",
        "for j in range(0,n-2):\r\n",
        "    for k in range(1+j,n-1):\r\n",
        "        for i in range(2+k-1,n):\r\n",
        "            if b[j]+b[k]+b[i] > m:\r\n",
        "                break\r\n",
        "            result.append(b[j]+b[k]+b[i])\r\n",
        "result.sort()\r\n",
        "print(result[-1])\r\n"
      ],
      "execution_count": null,
      "outputs": []
    },
    {
      "cell_type": "code",
      "metadata": {
        "colab": {
          "base_uri": "https://localhost:8080/"
        },
        "id": "UmL7zK6BH70k",
        "outputId": "1dc9efc1-41f4-4f33-df11-bd672d903289"
      },
      "source": [
        "#숏코딩\r\n",
        "from itertools import *\r\n",
        "[n,m],b=eval('map(int,input().split()),'*2)\r\n",
        "print(max(i for i in map(sum,combinations(b,3)) if i <= m))\r\n"
      ],
      "execution_count": 7,
      "outputs": [
        {
          "output_type": "stream",
          "text": [
            "5 21\n",
            "5 6 7 8 9\n",
            "21\n"
          ],
          "name": "stdout"
        }
      ]
    },
    {
      "cell_type": "code",
      "metadata": {
        "id": "EfSEX8NwJ2gz"
      },
      "source": [
        "a[n,m],d=eval('map(int,input().split()),'*2);from itertools import*;print(max(v for v in map(sum,combinations(d,3))if v<=m))"
      ],
      "execution_count": null,
      "outputs": []
    },
    {
      "cell_type": "code",
      "metadata": {
        "colab": {
          "base_uri": "https://localhost:8080/"
        },
        "id": "pdL9UOmbNaDo",
        "outputId": "98ff4771-3470-4fd7-c654-93b3a1caf55c"
      },
      "source": [
        "from itertools import*\r\n",
        "b = [5,6,7,8,9]\r\n",
        "m = 21\r\n",
        "a = [i for i in map(sum,combinations(b,3)) if i <= 21]\r\n",
        "a\r\n",
        "#sum(b)"
      ],
      "execution_count": 5,
      "outputs": [
        {
          "output_type": "execute_result",
          "data": {
            "text/plain": [
              "[18, 19, 20, 20, 21, 21]"
            ]
          },
          "metadata": {
            "tags": []
          },
          "execution_count": 5
        }
      ]
    },
    {
      "cell_type": "code",
      "metadata": {
        "id": "20V4168gNhRq"
      },
      "source": [
        ""
      ],
      "execution_count": null,
      "outputs": []
    }
  ]
}